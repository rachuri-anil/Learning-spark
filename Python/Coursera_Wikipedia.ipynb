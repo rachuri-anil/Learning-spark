{
 "cells": [
  {
   "cell_type": "code",
   "execution_count": null,
   "metadata": {
    "collapsed": true
   },
   "outputs": [],
   "source": [
    "import pandas as pd\n",
    "import os\n",
    "import sys\n",
    "import re\n",
    "from pyspark import SparkConf, SparkContext\n",
    "from operator import add"
   ]
  },
  {
   "cell_type": "code",
   "execution_count": null,
   "metadata": {
    "collapsed": false
   },
   "outputs": [],
   "source": [
    "conf = SparkConf().setAppName(\"Top_Langauges_App\").setMaster(\"local[2]\")\n",
    "sc = SparkContext(conf=conf)"
   ]
  },
  {
   "cell_type": "code",
   "execution_count": null,
   "metadata": {
    "collapsed": false
   },
   "outputs": [],
   "source": [
    "def find_between( s, first, last ):\n",
    "    try:\n",
    "        start = s.index( first ) + len( first )\n",
    "        end = s.index( last, start )\n",
    "        return s[start:end]\n",
    "    except ValueError:\n",
    "        return \"\"\n",
    "\n",
    "def find_between_r( s, first, last ):\n",
    "    try:\n",
    "        start = s.rindex( first ) + len( first )\n",
    "        end = s.rindex( last, start )\n",
    "        return s[start:end]\n",
    "    except ValueError:\n",
    "        return \"\"\n",
    "\n",
    "def occurenceOfLanguages(s):\n",
    "    try:\n",
    "        if s in [\"JavaScript\", \"Java\", \"PHP\",\\\n",
    "                 \"Python\", \"C#\", \"C++\", \"Ruby\",\\\n",
    "                 \"CSS\",\"Objective-C\", \"Perl\",\"Scala\", \\\n",
    "                 \"Haskell\", \"MATLAB\",\"Clojure\", \"Groovy\"]:\n",
    "            return s\n",
    "    except ValueError:\n",
    "        return \"\"\n",
    "    \n",
    "def find_word(doc):\n",
    "    try:\n",
    "        docWords = doc.split(\" \")\n",
    "        for word in [\"JavaScript\", \"Java\", \"PHP\",\"Python\", \"C#\", \"C++\", \"Ruby\",\"CSS\",\"Objective-C\", \"Perl\",\"Scala\",\"Haskell\",\"MATLAB\",\"Clojure\",\"Groovy\"]:\n",
    "            for w in docWords:\n",
    "                if word.lower() in docWords:\n",
    "                    return word\n",
    "    except ValueError:\n",
    "        return \"\"\n",
    "    \n",
    "# class Complex:\n",
    "#     def __init__(self,real,imag):\n",
    "#         self.r=real\n",
    "#         self.i=imag\n",
    "\n",
    "# class WikipediaArticle:\n",
    "#     def __init__(self,doc):\n",
    "#         self.ti = find_between(doc,'<title>','</title>')\n",
    "#         self.tex= find_between(doc,'<text>','</text>')\n",
    "\n",
    "\n",
    "# cn = ['3,4','3,8']\n",
    "# complex_numbers = [Complex(real.split(',')[0],real.split(',')[1]) for real in cn]\n"
   ]
  },
  {
   "cell_type": "code",
   "execution_count": null,
   "metadata": {
    "collapsed": true
   },
   "outputs": [],
   "source": [
    "wikidata =  sc.textFile('./data/wikipedia.dat')"
   ]
  },
  {
   "cell_type": "code",
   "execution_count": null,
   "metadata": {
    "collapsed": false
   },
   "outputs": [],
   "source": [
    "titles = wikidata.map(lambda x: find_between(x,'<title>','</title>'))\n",
    "text = wikidata.map(lambda x :find_between(x,'<text>','</text>'))\n",
    "text.persist()"
   ]
  },
  {
   "cell_type": "markdown",
   "metadata": {},
   "source": [
    "# Normal Solution "
   ]
  },
  {
   "cell_type": "code",
   "execution_count": null,
   "metadata": {
    "collapsed": false
   },
   "outputs": [],
   "source": [
    "languagePopularity = text.flatMap(lambda x : x.split(' ') )\\\n",
    "                         .filter(lambda x : occurenceOfLanguages(x)))\\\n",
    "                         .map(lambda x : (x,1))\\\n",
    "                         .reduceByKey(lambda x,y : x+y)\\\n",
    "                         .sortBy((lambda x:x[1]),ascending=False)"
   ]
  },
  {
   "cell_type": "markdown",
   "metadata": {},
   "source": [
    "# Solution using inverted Index Way"
   ]
  },
  {
   "cell_type": "code",
   "execution_count": null,
   "metadata": {
    "collapsed": false
   },
   "outputs": [],
   "source": [
    "def make_inverted_index(doc):\n",
    "    try:\n",
    "        article = find_between(doc,\"<text>\",\"</text>\")\n",
    "        article = article.lower()\n",
    "        docWords = article.split(\" \")\n",
    "        for word in [\"JavaScript\", \"Java\", \"PHP\",\"Python\", \"C#\", \"C++\", \"Ruby\",\"CSS\",\"Objective-C\", \"Perl\",\"Scala\",\"Haskell\",\"MATLAB\",\"Clojure\",\"Groovy\"]:\n",
    "            if word.lower() in docWords:\n",
    "                return (word,article)\n",
    "    except ValueError:\n",
    "        return \"\"\n",
    "\n",
    "def f(x): return len(x)"
   ]
  },
  {
   "cell_type": "code",
   "execution_count": null,
   "metadata": {
    "collapsed": false
   },
   "outputs": [],
   "source": [
    "wikidata.map(make_inverted_index).groupByKey().mapValues(f).sortBy(lambda x :x[1],ascending=False).count()"
   ]
  },
  {
   "cell_type": "code",
   "execution_count": null,
   "metadata": {
    "collapsed": false
   },
   "outputs": [],
   "source": [
    "testDat = sc.textFile(\"./data/test.txt\")"
   ]
  },
  {
   "cell_type": "code",
   "execution_count": null,
   "metadata": {
    "collapsed": false
   },
   "outputs": [],
   "source": [
    "testDat.map(make_inverted_index).groupByKey().mapValues(f).sortBy(lambda x :x[1],ascending=False).take(1)"
   ]
  }
 ],
 "metadata": {
  "kernelspec": {
   "display_name": "Python 2",
   "language": "python",
   "name": "python2"
  },
  "language_info": {
   "codemirror_mode": {
    "name": "ipython",
    "version": 2
   },
   "file_extension": ".py",
   "mimetype": "text/x-python",
   "name": "python",
   "nbconvert_exporter": "python",
   "pygments_lexer": "ipython2",
   "version": "2.7.11"
  }
 },
 "nbformat": 4,
 "nbformat_minor": 0
}
